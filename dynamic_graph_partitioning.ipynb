{
 "cells": [
  {
   "cell_type": "code",
   "execution_count": 41,
   "metadata": {
    "collapsed": false
   },
   "outputs": [],
   "source": [
    "%matplotlib inline\n",
    "import networkx as nx\n",
    "import metis\n",
    "import random\n",
    "import string\n",
    "from tqdm import tqdm\n",
    "from itertools import chain\n",
    "from matplotlib import pyplot as plt\n",
    "from collections import Counter, defaultdict\n",
    "import pandas as pd"
   ]
  },
  {
   "cell_type": "code",
   "execution_count": 42,
   "metadata": {
    "collapsed": false
   },
   "outputs": [],
   "source": [
    "GAMMA = 1.5"
   ]
  },
  {
   "cell_type": "code",
   "execution_count": 43,
   "metadata": {
    "collapsed": true
   },
   "outputs": [],
   "source": [
    "def get_alpha(g, k=2, gamma=GAMMA):\n",
    "    return np.sqrt(k) * g.number_of_edges() / np.power(g.number_of_nodes(), GAMMA)"
   ]
  },
  {
   "cell_type": "code",
   "execution_count": 44,
   "metadata": {
    "collapsed": false
   },
   "outputs": [],
   "source": [
    "def attempt_reassignment(g, n, partition, node2cluster, gamma, alpha):    \n",
    "    c_star = best_cluster_id(g, n, partition, gamma, alpha)\n",
    "    did_it = False\n",
    "    node_exist = (n in node2cluster)\n",
    "    if node_exist:\n",
    "        if node2cluster[n] != c_star:\n",
    "            partition[node2cluster[n]].remove(n)\n",
    "            partition[c_star].add(n)\n",
    "            node2cluster[n] = c_star\n",
    "            did_it = True\n",
    "    else:\n",
    "        partition[c_star].add(n)\n",
    "        node2cluster[n] = c_star\n",
    "        did_it = True\n",
    "    return did_it, partition, node2cluster\n",
    "\n",
    "def best_cluster_id(g, u, part, gamma, alpha):\n",
    "    \"\"\"part: dict(cluster_id, set of node)\n",
    "             the partition information\n",
    "        alpha, gamma: balancing parameter\"\"\"\n",
    "    N_u = set(g.neighbors(u))\n",
    "    def score(c):\n",
    "        s = (len(part[c].intersection(N_u)) -\n",
    "                alpha * gamma / 2 * np.power(len(part[c]), gamma-1))\n",
    "        return s\n",
    "    return max(part, key=score)"
   ]
  },
  {
   "cell_type": "code",
   "execution_count": 53,
   "metadata": {
    "collapsed": true
   },
   "outputs": [],
   "source": [
    "def update_partition(g, node2cluster, k=2,\n",
    "                         edges_to_add=[], edges_to_remove=[],\n",
    "                         gamma=GAMMA,\n",
    "                         verbose=True):\n",
    "    \"\"\"                                                                                                                                                                              \n",
    "    incrementally update the partitioning                                                                                                                                            \n",
    "                                                                                                                                                                                     \n",
    "    node2cluster: node to cluster id                                                                                                                                                 \n",
    "                                                                                                                                                                                     \n",
    "    return:                                                                                                                                                                          \n",
    "        list of updated cluster ids                                                                                                                                                  \n",
    "    \"\"\"\n",
    "    if len(edges_to_add) == 0 and len(edges_to_remove) == 0:\n",
    "        print('nothing to update')\n",
    "        return node2cluster\n",
    "\n",
    "    assert len(node2cluster) == g.number_of_nodes(), '{} \\n {}'.format(\n",
    "        set(node2cluster) - set(g.nodes()),\n",
    "        set(g.nodes()) - set(node2cluster)\n",
    "    )\n",
    "                                                                                                                                                                                     \n",
    "    # print(node2cluster)                                                                                                                                                            \n",
    "    if edges_to_add:\n",
    "        g.add_edges_from(edges_to_add)\n",
    "    if edges_to_remove:\n",
    "        g.remove_edges_from(edges_to_remove)\n",
    "\n",
    "    partition = defaultdict(set)  # cluster id to list of nodes                                                                                                                      \n",
    "    for n, p in node2cluster.items():\n",
    "        partition[p].add(n)\n",
    "\n",
    "    alpha = get_alpha(g, gamma=gamma)\n",
    "    params = {'gamma': gamma, 'alpha': alpha}\n",
    "    edge_iters = chain(edges_to_add, edges_to_remove)\n",
    "    if verbose:\n",
    "        edge_iters = tqdm(edge_iters)\n",
    "\n",
    "    for u, v in edge_iters:\n",
    "        if verbose:\n",
    "            print('edge ({}, {})'.format(u, v))\n",
    "        affected_nodes = set()\n",
    "        did_it, partition, node2cluster = attempt_reassignment(g, u,\n",
    "                                                               partition,\n",
    "                                                               node2cluster,\n",
    "                                                               **params)\n",
    "        if did_it:\n",
    "            if verbose:\n",
    "                print('moved node {}'.format(u))\n",
    "            affected_nodes |= set(g.neighbors(u))\n",
    "        did_it, partition, node2cluster = attempt_reassignment(g, v,\n",
    "                                                               partition,\n",
    "                                                               node2cluster,\n",
    "                                                               **params)\n",
    "        if did_it:\n",
    "            if verbose:\n",
    "                print('moved node {}'.format(v))\n",
    "            affected_nodes |= set(g.neighbors(v))\n",
    "\n",
    "        for n in affected_nodes:\n",
    "            if True:\n",
    "                did_it, partition, node2cluster = attempt_reassignment(\n",
    "                    g, n, partition, node2cluster, **params)\n",
    "                if verbose:\n",
    "                    if did_it:\n",
    "                        print('moved node {}'.format(n))\n",
    "                    else:\n",
    "                        print('{} stayed'.format(n))\n",
    "\n",
    "    # remove zero degree nodes                                                                                                                                                       \n",
    "    nodes_to_remove = [n for n in g.nodes_iter() if g.degree(n) == 0]\n",
    "    if nodes_to_remove:\n",
    "        # print('removing {} nodes'.format(len(nodes_to_remove)))                                                                                                                    \n",
    "        g.remove_nodes_from(nodes_to_remove)\n",
    "        for n in nodes_to_remove:\n",
    "            del node2cluster[n]\n",
    "                        \n",
    "                        \n",
    "    return node2cluster"
   ]
  },
  {
   "cell_type": "code",
   "execution_count": 54,
   "metadata": {
    "collapsed": false
   },
   "outputs": [
    {
     "data": {
      "text/plain": [
       "<matplotlib.text.Text at 0x7f9fdab58320>"
      ]
     },
     "execution_count": 54,
     "metadata": {},
     "output_type": "execute_result"
    },
    {
     "data": {
      "image/png": "[encoded data removed]",
      "text/plain": [
       "<matplotlib.figure.Figure at 0x7f9fda3fae80>"
      ]
     },
     "metadata": {},
     "output_type": "display_data"
    }
   ],
   "source": [
    "g = nx.barbell_graph(5, 1)\n",
    "g.add_edge(3, 5)\n",
    "\n",
    "_, part = metis.part_graph(g, 2)\n",
    "\n",
    "nx.draw_networkx(g, font_color='white', node_color=part)\n",
    "plt.title('Before adding edges')"
   ]
  },
  {
   "cell_type": "code",
   "execution_count": 55,
   "metadata": {
    "collapsed": false
   },
   "outputs": [
    {
     "name": "stderr",
     "output_type": "stream",
     "text": [
      "3it [00:00, 3641.94it/s]"
     ]
    },
    {
     "name": "stdout",
     "output_type": "stream",
     "text": [
      "edge (5, 7)\n",
      "moved node 5\n",
      "8 stayed\n",
      "3 stayed\n",
      "4 stayed\n",
      "6 stayed\n",
      "7 stayed\n",
      "edge (5, 8)\n",
      "edge (0, 11)\n",
      "moved node 11\n",
      "0 stayed\n"
     ]
    },
    {
     "name": "stderr",
     "output_type": "stream",
     "text": [
      "\n"
     ]
    },
    {
     "data": {
      "text/plain": [
       "<matplotlib.text.Text at 0x7f9fda92b9e8>"
      ]
     },
     "execution_count": 55,
     "metadata": {},
     "output_type": "execute_result"
    },
    {
     "data": {
      "image/png": "[encoded data removed]",
      "text/plain": [
       "<matplotlib.figure.Figure at 0x7f9fdab84588>"
      ]
     },
     "metadata": {},
     "output_type": "display_data"
    }
   ],
   "source": [
    "# part = update_partition(g, node_cluster_ids=part, edges_to_add=[(5, 7), (5, 8), (0, 11)])\n",
    "node2cluster = dict(zip(g.nodes_iter(), part))\n",
    "node2cluster = update_partition_new(g, node2cluster, edges_to_add=[(5, 7), (5, 8), (0, 11)])\n",
    "\n",
    "nx.draw_networkx(g,\n",
    "                 font_color='white',\n",
    "                 node_color=[node2cluster[n] for n in g.nodes_iter()])\n",
    "plt.title('After adding edges and repartitioning')"
   ]
  },
  {
   "cell_type": "code",
   "execution_count": 56,
   "metadata": {
    "collapsed": false
   },
   "outputs": [
    {
     "name": "stderr",
     "output_type": "stream",
     "text": [
      "3it [00:00, 6037.87it/s]"
     ]
    },
    {
     "name": "stdout",
     "output_type": "stream",
     "text": [
      "edge (5, 7)\n",
      "moved node 5\n",
      "3 stayed\n",
      "4 stayed\n",
      "6 stayed\n",
      "edge (5, 8)\n",
      "edge (0, 11)\n",
      "moved node 11\n"
     ]
    },
    {
     "name": "stderr",
     "output_type": "stream",
     "text": [
      "\n"
     ]
    },
    {
     "data": {
      "text/plain": [
       "<matplotlib.text.Text at 0x7f9fda3a6550>"
      ]
     },
     "execution_count": 56,
     "metadata": {},
     "output_type": "execute_result"
    },
    {
     "data": {
      "image/png": "[encoded data removed]",
      "text/plain": [
       "<matplotlib.figure.Figure at 0x7f9fda3fab70>"
      ]
     },
     "metadata": {},
     "output_type": "display_data"
    }
   ],
   "source": [
    "node2cluster = update_partition_new(g, node2cluster, edges_to_remove=[(5, 7), (5, 8), (0, 11)])\n",
    "nx.draw_networkx(g,\n",
    "                 font_color='white',\n",
    "                 node_color=[node2cluster[n] for n in g.nodes_iter()])\n",
    "plt.title('After removing edges and repartitioning')"
   ]
  },
  {
   "cell_type": "code",
   "execution_count": 57,
   "metadata": {
    "collapsed": true
   },
   "outputs": [],
   "source": [
    "def get_cut_ratio(g, cluster_node_ids):\n",
    "    \"\"\"support only 2 partitions currently                                                                                                                    \n",
    "    \"\"\"\n",
    "    partition = defaultdict(set)\n",
    "    for n, c in zip(g.nodes_iter(), cluster_node_ids):\n",
    "        partition[c].add(n)\n",
    "                                                                                                                                                              \n",
    "    c1, c2 = list(partition.values())\n",
    "    cuts = 0.0\n",
    "    for u, v in g.edges_iter():\n",
    "        if (u in c1 and v in c2) or (u in c2 and v in c1):\n",
    "            cuts += 1\n",
    "    return (cuts / g.number_of_edges(), c1, c2)"
   ]
  },
  {
   "cell_type": "code",
   "execution_count": 59,
   "metadata": {
    "collapsed": false
   },
   "outputs": [],
   "source": [
    "def performance(g, inc_node2cluster, raw_cuts, raw_cluster_ids):\n",
    "    updated_cluster_ids = [inc_node2cluster[n] for n in g.nodes()]\n",
    "    r1, c1, c2 = get_cut_ratio(g, updated_cluster_ids)\n",
    "    size_1 = (len(c1), len(c2))\n",
    "    \n",
    "    r2 = raw_cuts / g.number_of_edges()     \n",
    "    size_2 = tuple(Counter(raw_cluster_ids).values())\n",
    "    return {'cut_ratio_1': r1, \n",
    "            'cut_ratio_2': r2,\n",
    "            'size_1': size_1,\n",
    "            'size_2': size_2}"
   ]
  },
  {
   "cell_type": "code",
   "execution_count": 60,
   "metadata": {
    "collapsed": false
   },
   "outputs": [
    {
     "data": {
      "text/plain": [
       "{'cut_ratio_1': 0.043478260869565216,\n",
       " 'cut_ratio_2': 0.043478260869565216,\n",
       " 'size_1': (5, 6),\n",
       " 'size_2': (5, 6)}"
      ]
     },
     "execution_count": 60,
     "metadata": {},
     "output_type": "execute_result"
    }
   ],
   "source": [
    "cuts, raw_parts = metis.part_graph(g, 2)\n",
    "performance(g, node2cluster, cuts, raw_parts)"
   ]
  },
  {
   "cell_type": "code",
   "execution_count": 61,
   "metadata": {
    "collapsed": false
   },
   "outputs": [],
   "source": [
    "def sample_edges_to_add(g, n_edges_to_add,\n",
    "                        unknown_nodes_pool=list(string.ascii_lowercase)):\n",
    "    n = 0\n",
    "    edges_to_add = []\n",
    "    nodes = g.nodes()\n",
    "    while n < n_edges_to_add:\n",
    "        while True:\n",
    "            u = v = random.choice(nodes)\n",
    "                                                                                                                                                              \n",
    "            if random.random() > 0.5:  # 0.5 proba to sample unknown nodes                                                                                    \n",
    "                edges_to_add.append((u, random.choice(unknown_nodes_pool)))\n",
    "                break\n",
    "            else:  # 0.5 proba to sample existing edge                                                                                                        \n",
    "                while u == v:\n",
    "                    v = random.choice(nodes)\n",
    "                if not g.has_edge(u, v):\n",
    "                    edges_to_add.append((u, v))\n",
    "                    break\n",
    "        n += 1\n",
    "    return edges_to_add"
   ]
  },
  {
   "cell_type": "code",
   "execution_count": 32,
   "metadata": {
    "collapsed": false
   },
   "outputs": [],
   "source": [
    "# test\n",
    "assert len(sample_edges_to_add(g, 10)) == 10\n",
    "for e in sample_edges_to_add(g, 10):\n",
    "    assert not g.has_edge(*e)"
   ]
  },
  {
   "cell_type": "code",
   "execution_count": 63,
   "metadata": {
    "collapsed": false,
    "scrolled": true
   },
   "outputs": [
    {
     "name": "stderr",
     "output_type": "stream",
     "text": [
      "\r",
      "  0%|          | 0/8 [00:00<?, ?it/s]"
     ]
    },
    {
     "name": "stdout",
     "output_type": "stream",
     "text": [
      "circular\n"
     ]
    },
    {
     "name": "stderr",
     "output_type": "stream",
     "text": [
      "\r",
      " 12%|█▎        | 1/8 [00:01<00:12,  1.72s/it]"
     ]
    },
    {
     "name": "stdout",
     "output_type": "stream",
     "text": [
      "barbell\n"
     ]
    },
    {
     "name": "stderr",
     "output_type": "stream",
     "text": [
      "\r",
      " 25%|██▌       | 2/8 [00:15<00:32,  5.38s/it]"
     ]
    },
    {
     "name": "stdout",
     "output_type": "stream",
     "text": [
      "star\n"
     ]
    },
    {
     "name": "stderr",
     "output_type": "stream",
     "text": [
      "\r",
      " 38%|███▊      | 3/8 [00:21<00:27,  5.56s/it]"
     ]
    },
    {
     "name": "stdout",
     "output_type": "stream",
     "text": [
      "barabasi\n"
     ]
    },
    {
     "name": "stderr",
     "output_type": "stream",
     "text": [
      "\r",
      " 50%|█████     | 4/8 [00:24<00:19,  4.89s/it]"
     ]
    },
    {
     "name": "stdout",
     "output_type": "stream",
     "text": [
      "mtvhottest\n"
     ]
    },
    {
     "name": "stderr",
     "output_type": "stream",
     "text": [
      "\r",
      " 62%|██████▎   | 5/8 [00:28<00:13,  4.57s/it]"
     ]
    },
    {
     "name": "stdout",
     "output_type": "stream",
     "text": [
      "beefban\n"
     ]
    },
    {
     "name": "stderr",
     "output_type": "stream",
     "text": [
      "\r",
      " 75%|███████▌  | 6/8 [00:30<00:07,  3.66s/it]"
     ]
    },
    {
     "name": "stdout",
     "output_type": "stream",
     "text": [
      "baltimore\n"
     ]
    },
    {
     "name": "stderr",
     "output_type": "stream",
     "text": [
      "\r",
      " 88%|████████▊ | 7/8 [00:35<00:04,  4.20s/it]"
     ]
    },
    {
     "name": "stdout",
     "output_type": "stream",
     "text": [
      "ukraine\n"
     ]
    },
    {
     "name": "stderr",
     "output_type": "stream",
     "text": [
      "100%|██████████| 8/8 [00:38<00:00,  3.88s/it]\n"
     ]
    }
   ],
   "source": [
    "# Experiment on real networks\n",
    "from glob import glob\n",
    "from time import time\n",
    "\n",
    "\n",
    "add_edges_percent = 0.01\n",
    "remove_edges_percent = 0.01\n",
    "\n",
    "rows = []\n",
    "datasets = ['circular', 'barbell', 'star', 'barabasi',\n",
    "           'mtvhottest', 'beefban', 'baltimore', 'ukraine']\n",
    "for name in tqdm(datasets):\n",
    "    path = 'data/{}.gpkl'.format(name)\n",
    "    print(name)\n",
    "    g = nx.read_gpickle(path)\n",
    "    _, parts = metis.part_graph(g, 2)\n",
    "    node2cluster = dict(zip(g.nodes(), parts))\n",
    "    edges_to_remove = random.sample(g.edges(), int(g.number_of_edges() * remove_edges_percent))\n",
    "    edges_to_add = sample_edges_to_add(g, int(g.number_of_edges() * add_edges_percent))\n",
    "\n",
    "    s = time()\n",
    "    \n",
    "    new_node2cluster = update_partition_new(g, \n",
    "                                     node2cluster,\n",
    "                                     edges_to_add=edges_to_add,\n",
    "                                     edges_to_remove=edges_to_remove,\n",
    "                                     verbose=False)\n",
    "    takes_time_1 = time() - s\n",
    "    \n",
    "    s = time()\n",
    "    raw_cuts, raw_parts = metis.part_graph(g, 2)\n",
    "    takes_time_2 = time() - s\n",
    "    \n",
    "    stat = performance(g, new_node2cluster, raw_cuts, raw_parts)\n",
    "    stat['name'] = name\n",
    "    stat['running_time_1'] = takes_time_1\n",
    "    stat['running_time_2'] = takes_time_2\n",
    "    stat['n_nodes'] = g.number_of_nodes()\n",
    "    stat['n_edges'] = g.number_of_edges()\n",
    "    rows.append(stat)"
   ]
  },
  {
   "cell_type": "code",
   "execution_count": 64,
   "metadata": {
    "collapsed": false
   },
   "outputs": [],
   "source": [
    "df = pd.DataFrame.from_records(rows)"
   ]
  },
  {
   "cell_type": "code",
   "execution_count": 66,
   "metadata": {
    "collapsed": false
   },
   "outputs": [
    {
     "name": "stdout",
     "output_type": "stream",
     "text": [
      "\\begin{tabular}{lrrrrrrrr}\n",
      "\\toprule\n",
      "{} &  circular &  barbell &   star &  barabasi &  mtvhottest &  beefban &  baltimore &  ukraine \\\\\n",
      "\\midrule\n",
      "\\#nodes &     50020 &     2026 &  49540 &     50026 &       63028 &    28047 &      93337 &    55914 \\\\\n",
      "\\#edges &     50000 &   998563 &  50000 &    149991 &      105826 &    47845 &     145300 &   105586 \\\\\n",
      "\\bottomrule\n",
      "\\end{tabular}\n",
      "\n"
     ]
    }
   ],
   "source": [
    "g_stat = df[['name', 'n_nodes', 'n_edges']]\n",
    "print(pd.DataFrame([g_stat['n_nodes'].as_matrix(), g_stat['n_edges'].as_matrix()], index=['#nodes', '#edges'], columns=g_stat['name'].as_matrix()).to_latex())"
   ]
  },
  {
   "cell_type": "code",
   "execution_count": 67,
   "metadata": {
    "collapsed": false
   },
   "outputs": [
    {
     "data": {
      "image/png": "[encoded data removed]",
      "text/plain": [
       "<matplotlib.figure.Figure at 0x7f9fda920940>"
      ]
     },
     "metadata": {},
     "output_type": "display_data"
    }
   ],
   "source": [
    "# cut ratio\n",
    "fig, ax = plt.subplots()\n",
    "\n",
    "N = df.shape[0]\n",
    "ind = np.arange(N)\n",
    "width = 0.35\n",
    "\n",
    "ax.bar(ind, df['cut_ratio_1'], width, color='red')\n",
    "ax.bar(ind+width, df['cut_ratio_2'], width, color='blue')\n",
    "\n",
    "ax.set_xticks(ind + width)\n",
    "ax.set_xticklabels(df['name'])\n",
    "ax.set_ylabel('cut ratio')\n",
    "ax.set_title('Cut ratio comparison')\n",
    "fig.set_figwidth(7)\n",
    "ax.legend(['Leopard', 'Metis'])\n",
    "fig.savefig('figs/clustering_cut_ratio_comparison.pdf')"
   ]
  },
  {
   "cell_type": "code",
   "execution_count": 68,
   "metadata": {
    "collapsed": false
   },
   "outputs": [
    {
     "data": {
      "image/png": "[encoded data removed]",
      "text/plain": [
       "<matplotlib.figure.Figure at 0x7f9fda748390>"
      ]
     },
     "metadata": {},
     "output_type": "display_data"
    }
   ],
   "source": [
    "# cut ratio\n",
    "fig, ax = plt.subplots()\n",
    "\n",
    "N = df.shape[0]\n",
    "ind = np.arange(N)\n",
    "width = 0.35\n",
    "\n",
    "ax.bar(ind, df['running_time_1'], width, color='red')\n",
    "ax.bar(ind+width, df['running_time_2'], width, color='blue')\n",
    "\n",
    "ax.set_xticks(ind + width)\n",
    "ax.set_xticklabels(df['name'])\n",
    "ax.set_ylabel('running time (seconds)')\n",
    "ax.set_title('Running time comparison')\n",
    "fig.set_figwidth(7)\n",
    "ax.legend(['Leopard', 'Metis'])\n",
    "fig.savefig('figs/clustering_running_time_comparison.pdf')"
   ]
  }
 ],
 "metadata": {
  "kernelspec": {
   "display_name": "Python 3",
   "language": "python",
   "name": "python3"
  },
  "language_info": {
   "codemirror_mode": {
    "name": "ipython",
    "version": 3
   },
   "file_extension": ".py",
   "mimetype": "text/x-python",
   "name": "python",
   "nbconvert_exporter": "python",
   "pygments_lexer": "ipython3",
   "version": "3.5.2"
  }
 },
 "nbformat": 4,
 "nbformat_minor": 0
}
