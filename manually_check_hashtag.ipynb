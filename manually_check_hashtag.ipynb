{
 "cells": [
  {
   "cell_type": "code",
   "execution_count": 42,
   "metadata": {
    "collapsed": false
   },
   "outputs": [
    {
     "name": "stdout",
     "output_type": "stream",
     "text": [
      "The autoreload extension is already loaded. To reload it, use:\n",
      "  %reload_ext autoreload\n"
     ]
    }
   ],
   "source": [
    "%matplotlib inline\n",
    "%load_ext autoreload\n",
    "%autoreload 2\n",
    "\n",
    "\n",
    "import pandas as pd\n",
    "from simulation import run_simulation\n",
    "from datetime import timedelta\n",
    "from matplotlib import pyplot as plt"
   ]
  },
  {
   "cell_type": "code",
   "execution_count": 2,
   "metadata": {
    "collapsed": true
   },
   "outputs": [],
   "source": [
    "import networkx as nx\n",
    "import random\n",
    "import metis\n",
    "from collections import defaultdict\n",
    "from datetime import timedelta, datetime\n",
    "from tqdm import tqdm\n",
    "\n",
    "from rwc import controversy_score\n",
    "from util import tw_list, get_cut_ratio, add_edges, remove_edges\n",
    "from leopard import update_partition\n",
    "\n",
    "DEBUG = False\n",
    "\n",
    "\n",
    "# prevent pickling error in multiprocessing\n",
    "def defaultdict_using_list_func():\n",
    "    return defaultdict(list)\n",
    "\n",
    "\n",
    "def earlist_date_func():\n",
    "    return datetime(1970, 1, 1)"
   ]
  },
  {
   "cell_type": "code",
   "execution_count": 3,
   "metadata": {
    "collapsed": true
   },
   "outputs": [],
   "source": [
    "retweets = pd.read_pickle('data/july.pkl')\n",
    "text = pd.read_pickle('data/july_text.pkl')"
   ]
  },
  {
   "cell_type": "code",
   "execution_count": 4,
   "metadata": {
    "collapsed": false
   },
   "outputs": [
    {
     "name": "stderr",
     "output_type": "stream",
     "text": [
      "500000it [08:31, 978.16it/s] \n"
     ]
    }
   ],
   "source": [
    "incremental = True\n",
    "update_interval = timedelta(minutes=10)\n",
    "T_window = timedelta(minutes=6*60)\n",
    "top_node_percent=0.01\n",
    "\n",
    "result = run_simulation(retweets,\n",
    "                        T_window=T_window,\n",
    "                        head_n=5*1e5,\n",
    "                        incremental=True,\n",
    "                        update_interval=update_interval,\n",
    "                        top_node_percent=top_node_percent,\n",
    "                        top_k_computation_interval=timedelta(minutes=20))"
   ]
  },
  {
   "cell_type": "code",
   "execution_count": 16,
   "metadata": {
    "collapsed": true
   },
   "outputs": [
    {
     "data": {
      "text/plain": [
       "[{'list': [], 'time': Timestamp('2016-07-04 14:11:54.660000')},\n",
       " {'list': [], 'time': Timestamp('2016-07-04 14:51:00.658000')},\n",
       " {'list': [], 'time': Timestamp('2016-07-04 19:50:00.662000')},\n",
       " {'list': [{'rwc': 0.94115997602480828, 'size': 230, 'tag': 'VeranoMTV2016'},\n",
       "   {'rwc': 0.95875176485661262, 'size': 214, 'tag': 'MSGsays2Farmers'}],\n",
       "  'time': Timestamp('2016-07-11 18:50:00.657000')},\n",
       " {'list': [{'rwc': 0.92769737823546827,\n",
       "    'size': 661,\n",
       "    'tag': 'ALDUBIYAMin2Days'},\n",
       "   {'rwc': 0.94115997602480828, 'size': 212, 'tag': 'VeranoMTV2016'},\n",
       "   {'rwc': 0.85865982601084301, 'size': 119, 'tag': 'MGWV'},\n",
       "   {'rwc': 0.95875176485661262, 'size': 2, 'tag': 'MSGsays2Farmers'}],\n",
       "  'time': Timestamp('2016-07-11 22:50:00.660000')},\n",
       " {'list': [{'rwc': 0.90066559487931197,\n",
       "    'size': 866,\n",
       "    'tag': 'ALDUBIYAMin2Days'},\n",
       "   {'rwc': 0.96263883369381698, 'size': 361, 'tag': 'MSGsaysHardwork'},\n",
       "   {'rwc': 0.8692221602250414, 'size': 140, 'tag': 'MGWV'},\n",
       "   {'rwc': 0.95875176485661262, 'size': 2, 'tag': 'MSGsays2Farmers'}],\n",
       "  'time': Timestamp('2016-07-12 01:50:01.657000')},\n",
       " {'list': [{'rwc': 0.96263883369381698, 'size': 108, 'tag': 'MSGsaysHardwork'},\n",
       "   {'rwc': 0.8692221602250414, 'size': 62, 'tag': 'MGWV'},\n",
       "   {'rwc': 0.90066559487931197, 'size': 49, 'tag': 'ALDUBIYAMin2Days'},\n",
       "   {'rwc': 0.95875176485661262, 'size': 2, 'tag': 'MSGsays2Farmers'}],\n",
       "  'time': Timestamp('2016-07-16 02:34:45.663000')},\n",
       " {'list': [{'rwc': 0.96263883369381698, 'size': 108, 'tag': 'MSGsaysHardwork'},\n",
       "   {'rwc': 0.90066559487931197, 'size': 49, 'tag': 'ALDUBIYAMin2Days'},\n",
       "   {'rwc': 0.8692221602250414, 'size': 2, 'tag': 'MGWV'},\n",
       "   {'rwc': 0.95875176485661262, 'size': 2, 'tag': 'MSGsays2Farmers'}],\n",
       "  'time': Timestamp('2016-07-16 02:56:00.666000')},\n",
       " {'list': [{'rwc': 0.85724705135080459,\n",
       "    'size': 2482,\n",
       "    'tag': 'ALDUB1stAnniversary'},\n",
       "   {'rwc': 0.95544125596514728, 'size': 364, 'tag': 'SLFLMSG'},\n",
       "   {'rwc': 0.8692221602250414, 'size': 77, 'tag': 'MGWV'},\n",
       "   {'rwc': 0.96263883369381698, 'size': 2, 'tag': 'MSGsaysHardwork'},\n",
       "   {'rwc': 0.95875176485661262, 'size': 2, 'tag': 'MSGsays2Farmers'},\n",
       "   {'rwc': 0.90066559487931197, 'size': 2, 'tag': 'ALDUBIYAMin2Days'}],\n",
       "  'time': Timestamp('2016-07-16 04:50:00.658000')},\n",
       " {'list': [{'rwc': 0.85724705135080459,\n",
       "    'size': 2482,\n",
       "    'tag': 'ALDUB1stAnniversary'},\n",
       "   {'rwc': 0.83605639210804739, 'size': 2147, 'tag': 'ALDUBMaineCelebration'},\n",
       "   {'rwc': 0.87981990898895701, 'size': 815, 'tag': 'MSG4YourHealth'},\n",
       "   {'rwc': 0.84712598234284964, 'size': 1143, 'tag': 'ALDUBIYAMin5Days'},\n",
       "   {'rwc': 0.96813287498527978, 'size': 526, 'tag': 'SoundCloud'},\n",
       "   {'rwc': 0.95206706076925285, 'size': 477, 'tag': 'ChoiceSnapchatter'},\n",
       "   {'rwc': 0.9472605481591273, 'size': 427, 'tag': 'SLFLMSG'},\n",
       "   {'rwc': 0.93042532688070101, 'size': 399, 'tag': 'Sultan'},\n",
       "   {'rwc': 0.86740019199430574, 'size': 370, 'tag': 'fashion'},\n",
       "   {'rwc': 0.82568900044360827, 'size': 349, 'tag': 'love'}],\n",
       "  'time': Timestamp('2016-07-27 18:50:00.661000')},\n",
       " {'list': [{'rwc': 0.83605639210804739,\n",
       "    'size': 2147,\n",
       "    'tag': 'ALDUBMaineCelebration'},\n",
       "   {'rwc': 0.84712598234284964, 'size': 1143, 'tag': 'ALDUBIYAMin5Days'},\n",
       "   {'rwc': 0.97307330921830038, 'size': 673, 'tag': 'MTVHottest'},\n",
       "   {'rwc': 0.95313883287549461, 'size': 552, 'tag': 'ALDUBAnniversarEVE'},\n",
       "   {'rwc': 0.94915240989378513, 'size': 308, 'tag': 'VoteCaptainCanada'},\n",
       "   {'rwc': 0.89735151134530333, 'size': 272, 'tag': 'MSGsaysLeaveJealousy'},\n",
       "   {'rwc': 0.96824692038983662, 'size': 473, 'tag': 'ALDUBAngKapalit'},\n",
       "   {'rwc': 0.94179684020419085, 'size': 132, 'tag': 'UrbanAttires'},\n",
       "   {'rwc': 0.89353070287259184, 'size': 132, 'tag': '727Tour'},\n",
       "   {'rwc': 0.94537288658570318,\n",
       "    'size': 124,\n",
       "    'tag': 'ThreeEmptyWordsAtMidnight'}],\n",
       "  'time': Timestamp('2016-07-27 22:50:00.662000')},\n",
       " {'list': [{'rwc': 0.83605639210804739,\n",
       "    'size': 2147,\n",
       "    'tag': 'ALDUBMaineCelebration'},\n",
       "   {'rwc': 0.91481169688171959, 'size': 1330, 'tag': 'MTVHottest'},\n",
       "   {'rwc': 0.84712598234284964, 'size': 1143, 'tag': 'ALDUBIYAMin5Days'},\n",
       "   {'rwc': 0.92170441686686444, 'size': 687, 'tag': 'ALDUBAngKapalit'},\n",
       "   {'rwc': 0.87494561411839966, 'size': 340, 'tag': 'MSGsaysLeaveJealousy'},\n",
       "   {'rwc': 0.95313883287549461, 'size': 552, 'tag': 'ALDUBAnniversarEVE'},\n",
       "   {'rwc': 0.94915240989378513, 'size': 308, 'tag': 'VoteCaptainCanada'},\n",
       "   {'rwc': 0.91611153069881235, 'size': 229, 'tag': '727Tour'},\n",
       "   {'rwc': 0.94736199424593559,\n",
       "    'size': 128,\n",
       "    'tag': 'ThreeEmptyWordsAtMidnight'},\n",
       "   {'rwc': 0.95346450449491504, 'size': 122, 'tag': 'Lyft'}],\n",
       "  'time': Timestamp('2016-07-28 01:50:00.660000')},\n",
       " {'list': [{'rwc': 0.83605639210804739,\n",
       "    'size': 2147,\n",
       "    'tag': 'ALDUBMaineCelebration'},\n",
       "   {'rwc': 0.84712598234284964, 'size': 1143, 'tag': 'ALDUBIYAMin5Days'},\n",
       "   {'rwc': 0.92158936152919946, 'size': 620, 'tag': 'MTVHottest'},\n",
       "   {'rwc': 0.96563074025308737, 'size': 421, 'tag': '4YearsOfFifthHarmony'},\n",
       "   {'rwc': 0.95313883287549461, 'size': 552, 'tag': 'ALDUBAnniversarEVE'},\n",
       "   {'rwc': 0.94915240989378513, 'size': 308, 'tag': 'VoteCaptainCanada'},\n",
       "   {'rwc': 0.95469387277518558, 'size': 262, 'tag': '727TourManchester'},\n",
       "   {'rwc': 0.96844572098963611, 'size': 463, 'tag': 'ALDUB54thWeeksary'},\n",
       "   {'rwc': 0.96813287498527978, 'size': 171, 'tag': 'SoundCloud'},\n",
       "   {'rwc': 0.94736199424593559,\n",
       "    'size': 130,\n",
       "    'tag': 'ThreeEmptyWordsAtMidnight'}],\n",
       "  'time': Timestamp('2016-07-29 13:59:35.660000')},\n",
       " {'list': [{'rwc': 0.83605639210804739,\n",
       "    'size': 2147,\n",
       "    'tag': 'ALDUBMaineCelebration'},\n",
       "   {'rwc': 0.84712598234284964, 'size': 1143, 'tag': 'ALDUBIYAMin5Days'},\n",
       "   {'rwc': 0.97527616792363048, 'size': 381, 'tag': 'enlightenment'},\n",
       "   {'rwc': 0.95313883287549461, 'size': 552, 'tag': 'ALDUBAnniversarEVE'},\n",
       "   {'rwc': 0.90201949676043736, 'size': 329, 'tag': 'HealthTipsByMSG'},\n",
       "   {'rwc': 0.94915240989378513, 'size': 308, 'tag': 'VoteCaptainCanada'},\n",
       "   {'rwc': 0.96875577589223161, 'size': 523, 'tag': 'ALDUBSafeZone'},\n",
       "   {'rwc': 0.83265964649851276, 'size': 116, 'tag': 'AsantewaaDeBlogger'},\n",
       "   {'rwc': 0.94437754469852586, 'size': 67, 'tag': 'uber'},\n",
       "   {'rwc': 0.96660253693180598, 'size': 47, 'tag': 'TrumpTrain'}],\n",
       "  'time': Timestamp('2016-07-29 22:50:00.660000')},\n",
       " {'list': [{'rwc': 0.83605639210804739,\n",
       "    'size': 2147,\n",
       "    'tag': 'ALDUBMaineCelebration'},\n",
       "   {'rwc': 0.84712598234284964, 'size': 1143, 'tag': 'ALDUBIYAMin5Days'},\n",
       "   {'rwc': 0.95313883287549461, 'size': 552, 'tag': 'ALDUBAnniversarEVE'},\n",
       "   {'rwc': 0.94915240989378513, 'size': 308, 'tag': 'VoteCaptainCanada'},\n",
       "   {'rwc': 0.83265964649851276, 'size': 116, 'tag': 'AsantewaaDeBlogger'},\n",
       "   {'rwc': 0.94437754469852586, 'size': 67, 'tag': 'uber'},\n",
       "   {'rwc': 0.96813287498527978, 'size': 60, 'tag': 'SoundCloud'},\n",
       "   {'rwc': 0.94179684020419085, 'size': 51, 'tag': 'UrbanAttires'},\n",
       "   {'rwc': 0.90201949676043736, 'size': 28, 'tag': 'HealthTipsByMSG'},\n",
       "   {'rwc': 0.97527616792363048, 'size': 27, 'tag': 'enlightenment'}],\n",
       "  'time': Timestamp('2016-07-30 01:50:00.658000')},\n",
       " {'list': [{'rwc': 0.83605639210804739,\n",
       "    'size': 2147,\n",
       "    'tag': 'ALDUBMaineCelebration'},\n",
       "   {'rwc': 0.97527616792363048, 'size': 463, 'tag': 'enlightenment'},\n",
       "   {'rwc': 0.96875577589223161, 'size': 499, 'tag': 'ALDUBSafeZone'},\n",
       "   {'rwc': 0.94915240989378513, 'size': 308, 'tag': 'VoteCaptainCanada'},\n",
       "   {'rwc': 0.96813287498527978, 'size': 136, 'tag': 'SoundCloud'},\n",
       "   {'rwc': 0.83265964649851276, 'size': 116, 'tag': 'AsantewaaDeBlogger'},\n",
       "   {'rwc': 0.87494561411839966, 'size': 112, 'tag': 'MSGsaysLeaveJealousy'},\n",
       "   {'rwc': 0.91258364275946524, 'size': 86, 'tag': 'FOLLOW'},\n",
       "   {'rwc': 0.94179684020419085, 'size': 76, 'tag': 'UrbanAttires'},\n",
       "   {'rwc': 0.86740019199430574, 'size': 74, 'tag': 'fashion'}],\n",
       "  'time': Timestamp('2016-07-30 05:50:01.663000')}]"
      ]
     },
     "execution_count": 16,
     "metadata": {},
     "output_type": "execute_result"
    }
   ],
   "source": [
    "result[1]"
   ]
  },
  {
   "cell_type": "code",
   "execution_count": 5,
   "metadata": {
    "collapsed": false
   },
   "outputs": [
    {
     "name": "stdout",
     "output_type": "stream",
     "text": [
      "['MTVHottest', 'AsantewaaDeBlogger', 'ALDUBIYAMin2Days', '727TourManchester', 'FOLLOW', 'ThreeEmptyWordsAtMidnight', 'SoundCloud', 'SLFLMSG', 'HealthTipsByMSG', 'ALDUBMaineCelebration', '4YearsOfFifthHarmony', 'ALDUB54thWeeksary', 'Sultan', 'VeranoMTV2016', 'ALDUBAnniversarEVE', 'ALDUBIYAMin5Days', 'ALDUBAngKapalit', 'MGWV', 'Lyft', 'TrumpTrain', 'MSGsaysHardwork', 'fashion', '727Tour', 'ALDUBSafeZone', 'love', 'MSGsaysLeaveJealousy', 'uber', 'ChoiceSnapchatter', 'UrbanAttires', 'MSGsays2Farmers', 'VoteCaptainCanada', 'ALDUB1stAnniversary', 'enlightenment', 'MSG4YourHealth']\n"
     ]
    }
   ],
   "source": [
    "top_k_log = result[1]\n",
    "tags = list(set([i['tag'] for l in top_k_log for i in l['list']]))\n",
    "print(tags)"
   ]
  },
  {
   "cell_type": "code",
   "execution_count": 67,
   "metadata": {
    "collapsed": false
   },
   "outputs": [
    {
     "name": "stdout",
     "output_type": "stream",
     "text": [
      "[2893530846, 2853120986, 2853078955, 2866419175, 334770866]\n",
      "[2852359916, 2862558397, 2880348632, 2824987642, 3029260684]\n"
     ]
    }
   ],
   "source": [
    "from util import build_graph_from_df\n",
    "tag = 'MSGsays2Farmers'\n",
    "retweets_subset = retweets.head(int(5*1e5))\n",
    "sub_df = retweets_subset[retweets_subset['hashtag'] == tag]\n",
    "\n",
    "\n",
    "g = build_graph_from_df(sub_df)\n",
    "pr = nx.pagerank(g)\n",
    "cuts, cluster_ids = metis.part_graph(g, 2)\n",
    "\n",
    "\n",
    "partition = defaultdict(list)\n",
    "for n, c in zip(g.nodes(), cluster_ids):\n",
    "    partition[c].append(n)\n",
    "\n",
    "topk0 = sorted(partition[0], key=lambda k: pr[k], reverse=True)[:5]\n",
    "topk1 = sorted(partition[1], key=lambda k: pr[k], reverse=True)[:5]\n",
    "print(topk0)\n",
    "print(topk1)\n",
    "\n",
    "def all_tweets_ids_by_users(df, users):\n",
    "    tweets = []\n",
    "    ids = set()\n",
    "    for u in users:\n",
    "        ids |= set(df[(df['retweetee'] == u) | (df['retweeter'] == u)]['message_id'].as_matrix().tolist())\n",
    "    return ids\n",
    "        \n",
    "top_user_tweets_0 = all_tweets_ids_by_users(sub_df, topk0)\n",
    "top_user_tweets_1 = all_tweets_ids_by_users(sub_df, topk1)"
   ]
  },
  {
   "cell_type": "code",
   "execution_count": 68,
   "metadata": {
    "collapsed": false
   },
   "outputs": [],
   "source": [
    "text0 = text.loc[top_user_tweets_0]['body'].tolist()\n",
    "text1 = text.loc[top_user_tweets_1]['body'].tolist()\n",
    "text0, text1 = map(set, [text0, text1])"
   ]
  },
  {
   "cell_type": "code",
   "execution_count": 69,
   "metadata": {
    "collapsed": false
   },
   "outputs": [
    {
     "name": "stdout",
     "output_type": "stream",
     "text": [
      "----------\n",
      "RT @babitatyagi0: Dr.@Gurmeetramrahim g !as far as i think it is called Organic Farming !Thank You for giving precious suggestions !!\n",
      "#MSGs…\n",
      "----------\n",
      "RT @ksushma140: Drv@Gurmeetramrahim THANX!! INFINITE!! time MY TRUE CARE TAKER ALMIGHTY!! GURU JI #MSGsays2Farmers\n",
      "----------\n",
      "RT @babitatyagi0: @Gurmeetramrahim g !!Good news for ALL !!\n",
      "#MSGsays2Farmers https://t.co/CKT5C21rXd\n",
      "----------\n",
      "RT @babitatyagi0: @Gurmeetramrahim Thank YOU My true care taker Almighty g !!\n",
      "#MSGsays2Farmers\n",
      "----------\n",
      "RT @babitatyagi0: @Gurmeetramrahim Your Ultimate Tips will uproot diseases from our society &amp; soon we will see a healthy country !\n",
      "#MSGsays…\n"
     ]
    }
   ],
   "source": [
    "for t in random.sample(text0, 5):\n",
    "    print('-'*10)\n",
    "    print(t)\n"
   ]
  },
  {
   "cell_type": "code",
   "execution_count": 70,
   "metadata": {
    "collapsed": false
   },
   "outputs": [
    {
     "name": "stdout",
     "output_type": "stream",
     "text": [
      "----------\n",
      "RT @MukhijaNidhi: @Gurmeetramrahim And it is a beautiful picture Guru Ji #MSGsays2Farmers\n",
      "----------\n",
      "RT @MukhijaNidhi: Everyday is now a blessing with Guru ji, Dr MSG Himself providing us great tips for living a happy purposeful life #MSGsa…\n",
      "----------\n",
      "RT @Gurmeetramrahim: #MSGsays2Farmers God bless you all https://t.co/E1duZ2j7Rw\n",
      "----------\n",
      "RT @poojakamboj176: Dr @Gurmeetramrahim Guru ji,\n",
      "Eat organic n\n",
      "Stay healthy!!!!  #MSGsays2Farmers\n",
      "----------\n",
      "RT @poojakamboj176: @Gurmeetramrahim \n",
      "#MSGsays2Farmers \n",
      "Guru ji, you are our world's best guider!!! Salute to you Guru ji!!!\n"
     ]
    }
   ],
   "source": [
    "for t in random.sample(text1, 5):\n",
    "    print('-'*10)\n",
    "    print(t)\n"
   ]
  },
  {
   "cell_type": "code",
   "execution_count": 71,
   "metadata": {
    "collapsed": false,
    "scrolled": true
   },
   "outputs": [
    {
     "name": "stdout",
     "output_type": "stream",
     "text": [
      "before CC 0.945621286846\n"
     ]
    }
   ],
   "source": [
    "from rwc import controversy_score\n",
    "cuts, cluster_ids = metis.part_graph(g, 2)\n",
    "rwc, _ = controversy_score(g, node2cluster=dict(zip(g.nodes(), cluster_ids)), top_percent=0.1)\n",
    "print('before CC', rwc)"
   ]
  },
  {
   "cell_type": "code",
   "execution_count": 72,
   "metadata": {
    "collapsed": false
   },
   "outputs": [
    {
     "name": "stdout",
     "output_type": "stream",
     "text": [
      "after CC 0.912344609613\n"
     ]
    }
   ],
   "source": [
    "from util import get_largest_connected_subgraph\n",
    "g = get_largest_connected_subgraph(g)\n",
    "cuts, cluster_ids = metis.part_graph(g, 2)\n",
    "\n",
    "rwc, _ = controversy_score(g, node2cluster=dict(zip(g.nodes(), cluster_ids)), top_percent=0.1)\n",
    "print('after CC', rwc)"
   ]
  },
  {
   "cell_type": "code",
   "execution_count": 73,
   "metadata": {
    "collapsed": false
   },
   "outputs": [
    {
     "name": "stderr",
     "output_type": "stream",
     "text": [
      "\n",
      "  0%|          | 0/100 [00:00<?, ?it/s]\u001b[A\n",
      "  7%|▋         | 7/100 [00:00<00:01, 62.33it/s]\u001b[A\n",
      " 13%|█▎        | 13/100 [00:00<00:01, 61.17it/s]\u001b[A\n",
      " 20%|██        | 20/100 [00:00<00:01, 61.07it/s]\u001b[A\n",
      " 27%|██▋       | 27/100 [00:00<00:01, 61.20it/s]\n",
      " 40%|████      | 40/100 [00:00<00:00, 60.71it/s]Exception in thread Thread-22:\n",
      "Traceback (most recent call last):\n",
      "  File \"/usr/lib/python3.5/threading.py\", line 914, in _bootstrap_inner\n",
      "    self.run()\n",
      "  File \"/home/cloud-user/code/controversy_detection/venv/lib/python3.5/site-packages/tqdm/_tqdm.py\", line 102, in run\n",
      "    for instance in self.tqdm_cls._instances:\n",
      "  File \"/usr/lib/python3.5/_weakrefset.py\", line 60, in __iter__\n",
      "    for itemref in self.data:\n",
      "RuntimeError: Set changed size during iteration\n",
      "\n",
      "100%|██████████| 100/100 [00:01<00:00, 60.86it/s]\n"
     ]
    },
    {
     "data": {
      "image/png": "[encoded data removed]",
      "text/plain": [
       "<matplotlib.figure.Figure at 0x7fd4beb91e48>"
      ]
     },
     "metadata": {},
     "output_type": "display_data"
    }
   ],
   "source": [
    "from forceatlas import forceatlas2_layout\n",
    "from util import get_largest_connected_subgraph\n",
    "\n",
    "pos = forceatlas2_layout(g, iterations=100)\n",
    "fig = nx.draw(g, pos=pos, with_label=False, node_color=cluster_ids, node_size=50, alpha=0.8)\n",
    "fig = plt.gcf()\n",
    "fig.savefig('figs/{}.pdf'.format(tag))"
   ]
  }
 ],
 "metadata": {
  "kernelspec": {
   "display_name": "Python 3",
   "language": "python",
   "name": "python3"
  },
  "language_info": {
   "codemirror_mode": {
    "name": "ipython",
    "version": 3
   },
   "file_extension": ".py",
   "mimetype": "text/x-python",
   "name": "python",
   "nbconvert_exporter": "python",
   "pygments_lexer": "ipython3",
   "version": "3.5.2"
  }
 },
 "nbformat": 4,
 "nbformat_minor": 0
}
