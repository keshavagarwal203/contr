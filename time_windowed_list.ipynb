{
 "cells": [
  {
   "cell_type": "code",
   "execution_count": 97,
   "metadata": {
    "collapsed": true
   },
   "outputs": [],
   "source": [
    "from datetime import datetime, timedelta"
   ]
  },
  {
   "cell_type": "code",
   "execution_count": 130,
   "metadata": {
    "collapsed": false
   },
   "outputs": [],
   "source": [
    "class tw_list():\n",
    "    def __init__(self, data=None, timestamps=None):\n",
    "        if data is None or timestamps is None:\n",
    "            data = []\n",
    "            timestamps = []\n",
    "        assert len(data) == len(timestamps)            \n",
    "        self.data = data\n",
    "        self.ts = timestamps\n",
    "        \n",
    "    def remove_before_time(self, t):\n",
    "        i = 0\n",
    "        while i < len(self.ts) and self.ts[i] < t:\n",
    "            i += 1\n",
    "        removed_data = self.data[:i]\n",
    "        self.ts = self.ts[i:]\n",
    "        self.data = self.data[i:]\n",
    "        return removed_data\n",
    "        \n",
    "    def append(self, e, t):\n",
    "        self.data.append(e)\n",
    "        self.ts.append(t)\n",
    "        \n",
    "    def __repr__(self):\n",
    "        return ', '.join(map(lambda t: '{0}({1})'.format(t[0], t[1]),\n",
    "                             zip(self.data, self.ts)))"
   ]
  },
  {
   "cell_type": "code",
   "execution_count": 136,
   "metadata": {
    "collapsed": false
   },
   "outputs": [],
   "source": [
    "l = tw_list()"
   ]
  },
  {
   "cell_type": "code",
   "execution_count": 137,
   "metadata": {
    "collapsed": false
   },
   "outputs": [],
   "source": [
    "l.append('a', datetime(2016, 12, 9))\n",
    "l.append('b', datetime(2016, 12, 10))\n",
    "l.append('c', datetime(2016, 12, 11))"
   ]
  },
  {
   "cell_type": "code",
   "execution_count": 138,
   "metadata": {
    "collapsed": false
   },
   "outputs": [
    {
     "data": {
      "text/plain": [
       "a(2016-12-09 00:00:00), b(2016-12-10 00:00:00), c(2016-12-11 00:00:00)"
      ]
     },
     "execution_count": 138,
     "metadata": {},
     "output_type": "execute_result"
    }
   ],
   "source": [
    "l"
   ]
  },
  {
   "cell_type": "code",
   "execution_count": 139,
   "metadata": {
    "collapsed": false
   },
   "outputs": [
    {
     "data": {
      "text/plain": [
       "[]"
      ]
     },
     "execution_count": 139,
     "metadata": {},
     "output_type": "execute_result"
    }
   ],
   "source": [
    "l.remove_before_time(datetime(2016, 12, 8))"
   ]
  },
  {
   "cell_type": "code",
   "execution_count": 140,
   "metadata": {
    "collapsed": false
   },
   "outputs": [
    {
     "data": {
      "text/plain": [
       "a(2016-12-09 00:00:00), b(2016-12-10 00:00:00), c(2016-12-11 00:00:00)"
      ]
     },
     "execution_count": 140,
     "metadata": {},
     "output_type": "execute_result"
    }
   ],
   "source": [
    "l"
   ]
  }
 ],
 "metadata": {
  "kernelspec": {
   "display_name": "Python 3",
   "language": "python",
   "name": "python3"
  },
  "language_info": {
   "codemirror_mode": {
    "name": "ipython",
    "version": 3
   },
   "file_extension": ".py",
   "mimetype": "text/x-python",
   "name": "python",
   "nbconvert_exporter": "python",
   "pygments_lexer": "ipython3",
   "version": "3.5.2"
  }
 },
 "nbformat": 4,
 "nbformat_minor": 0
}
