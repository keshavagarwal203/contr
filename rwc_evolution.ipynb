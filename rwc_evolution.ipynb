{
 "cells": [
  {
   "cell_type": "code",
   "execution_count": 1,
   "metadata": {
    "collapsed": true
   },
   "outputs": [],
   "source": [
    "%matplotlib inline\n",
    "import networkx as nx\n",
    "import pandas as pd\n",
    "from matplotlib import pyplot as plt\n",
    "from datetime import datetime as dt, timedelta as td\n",
    "from tqdm import tqdm\n",
    "from rwc import controversy_score\n",
    "from util import build_graph_from_df\n",
    "from itertools import takewhile, count"
   ]
  },
  {
   "cell_type": "code",
   "execution_count": 2,
   "metadata": {
    "collapsed": true
   },
   "outputs": [],
   "source": [
    "dataset=\"mtvhottest\""
   ]
  },
  {
   "cell_type": "code",
   "execution_count": 3,
   "metadata": {
    "collapsed": false
   },
   "outputs": [],
   "source": [
    "g = nx.read_gpickle('data/{}.gpkl'.format(dataset))\n",
    "df = pd.read_pickle('data/{}.pkl'.format(dataset))\n",
    "if not isinstance(df['created_at'].iloc[0], pd.tslib.Timestamp):\n",
    "    df['created_at'] = list(map(dt.fromtimestamp, df['created_at']))\n",
    "df.set_index(['created_at'], inplace=True)"
   ]
  },
  {
   "cell_type": "code",
   "execution_count": 4,
   "metadata": {
    "collapsed": false
   },
   "outputs": [],
   "source": [
    "times = df.index"
   ]
  },
  {
   "cell_type": "code",
   "execution_count": 5,
   "metadata": {
    "collapsed": true
   },
   "outputs": [],
   "source": [
    "timediff = times.max() - times.min()"
   ]
  },
  {
   "cell_type": "code",
   "execution_count": 6,
   "metadata": {
    "collapsed": false
   },
   "outputs": [
    {
     "name": "stdout",
     "output_type": "stream",
     "text": [
      "time difference: 28 days 12:02:31.005000\n"
     ]
    }
   ],
   "source": [
    "print('time difference: {}'.format(timediff))"
   ]
  },
  {
   "cell_type": "code",
   "execution_count": 7,
   "metadata": {
    "collapsed": false
   },
   "outputs": [],
   "source": [
    "time_step = td(hours=12)\n",
    "time_window = td(hours=48)"
   ]
  },
  {
   "cell_type": "code",
   "execution_count": 8,
   "metadata": {
    "collapsed": false
   },
   "outputs": [
    {
     "name": "stdout",
     "output_type": "stream",
     "text": [
      "[0, 1, 2, 3, 4, 5, 6, 7, 8, 9, 10, 11, 12, 13, 14, 15, 16, 17, 18, 19, 20, 21, 22, 23, 24, 25, 26, 27, 28, 29, 30, 31, 32, 33, 34, 35, 36, 37, 38, 39, 40, 41, 42, 43, 44, 45, 46, 47, 48, 49, 50, 51, 52, 53]\n"
     ]
    }
   ],
   "source": [
    "time_zero = times.min()\n",
    "multiples = list(takewhile(lambda i: (time_zero + i * time_step + time_window) <= times.max(), count(0)))\n",
    "print(multiples)"
   ]
  },
  {
   "cell_type": "code",
   "execution_count": 16,
   "metadata": {
    "collapsed": false
   },
   "outputs": [
    {
     "name": "stderr",
     "output_type": "stream",
     "text": [
      " 35%|███▌      | 19/54 [00:00<00:00, 186.92it/s]"
     ]
    },
    {
     "name": "stdout",
     "output_type": "stream",
     "text": [
      "For 2016-07-03 17:56:14.657000 - 2016-07-05 17:56:14.657000\n",
      "only contains 6 nodes, does not work for percent 0.001\n",
      "For 2016-07-04 05:56:14.657000 - 2016-07-06 05:56:14.657000\n",
      "only contains 4 nodes, does not work for percent 0.001\n",
      "For 2016-07-04 17:56:14.657000 - 2016-07-06 17:56:14.657000\n",
      "only contains 2 nodes, does not work for percent 0.001\n",
      "For 2016-07-05 05:56:14.657000 - 2016-07-07 05:56:14.657000\n",
      "only contains 2 nodes, does not work for percent 0.001\n",
      "For 2016-07-05 17:56:14.657000 - 2016-07-07 17:56:14.657000\n",
      "only contains 2 nodes, does not work for percent 0.001\n",
      "For 2016-07-06 05:56:14.657000 - 2016-07-08 05:56:14.657000\n",
      "only contains 0 nodes, does not work for percent 0.001\n",
      "For 2016-07-06 17:56:14.657000 - 2016-07-08 17:56:14.657000\n",
      "only contains 0 nodes, does not work for percent 0.001\n",
      "For 2016-07-07 05:56:14.657000 - 2016-07-09 05:56:14.657000\n",
      "only contains 0 nodes, does not work for percent 0.001\n",
      "For 2016-07-07 17:56:14.657000 - 2016-07-09 17:56:14.657000\n",
      "only contains 19 nodes, does not work for percent 0.001\n",
      "For 2016-07-08 05:56:14.657000 - 2016-07-10 05:56:14.657000\n",
      "only contains 22 nodes, does not work for percent 0.001\n",
      "For 2016-07-08 17:56:14.657000 - 2016-07-10 17:56:14.657000\n",
      "only contains 28 nodes, does not work for percent 0.001\n",
      "For 2016-07-09 05:56:14.657000 - 2016-07-11 05:56:14.657000\n",
      "only contains 33 nodes, does not work for percent 0.001\n",
      "For 2016-07-09 17:56:14.657000 - 2016-07-11 17:56:14.657000\n",
      "only contains 22 nodes, does not work for percent 0.001\n",
      "For 2016-07-10 05:56:14.657000 - 2016-07-12 05:56:14.657000\n",
      "only contains 22 nodes, does not work for percent 0.001\n",
      "For 2016-07-10 17:56:14.657000 - 2016-07-12 17:56:14.657000\n",
      "only contains 16 nodes, does not work for percent 0.001\n",
      "For 2016-07-11 05:56:14.657000 - 2016-07-13 05:56:14.657000\n",
      "only contains 11 nodes, does not work for percent 0.001\n",
      "For 2016-07-11 17:56:14.657000 - 2016-07-13 17:56:14.657000\n",
      "only contains 5 nodes, does not work for percent 0.001\n",
      "For 2016-07-12 05:56:14.657000 - 2016-07-14 05:56:14.657000\n",
      "only contains 8 nodes, does not work for percent 0.001\n",
      "For 2016-07-12 17:56:14.657000 - 2016-07-14 17:56:14.657000\n",
      "only contains 11 nodes, does not work for percent 0.001\n",
      "For 2016-07-13 05:56:14.657000 - 2016-07-15 05:56:14.657000\n",
      "only contains 15 nodes, does not work for percent 0.001\n",
      "For 2016-07-13 17:56:14.657000 - 2016-07-15 17:56:14.657000\n",
      "only contains 17 nodes, does not work for percent 0.001\n",
      "For 2016-07-14 05:56:14.657000 - 2016-07-16 05:56:14.657000\n",
      "only contains 18 nodes, does not work for percent 0.001\n"
     ]
    },
    {
     "name": "stderr",
     "output_type": "stream",
     "text": [
      "100%|██████████| 54/54 [04:02<00:00,  6.81s/it]\n"
     ]
    }
   ],
   "source": [
    "rwc_list = []\n",
    "for i in tqdm(multiples):\n",
    "    start_time = time_zero + i * time_step\n",
    "    end_time = start_time + time_window\n",
    "    sub_df = df[(df.index >= start_time) & (df.index < end_time)]\n",
    "    sub_g = build_graph_from_df(sub_df)\n",
    "    try:\n",
    "        rwc_list.append(controversy_score(sub_g))\n",
    "    except ValueError as e:\n",
    "        rwc_list.append(0)\n",
    "        print('For {} - {}'.format(start_time, end_time))\n",
    "        print(str(e))\n"
   ]
  },
  {
   "cell_type": "code",
   "execution_count": 17,
   "metadata": {
    "collapsed": false
   },
   "outputs": [
    {
     "data": {
      "image/png": "[encoded data removed]",
      "text/plain": [
       "<matplotlib.figure.Figure at 0x7fe1b3c02ac8>"
      ]
     },
     "metadata": {},
     "output_type": "display_data"
    }
   ],
   "source": [
    "pd.Series(rwc_list).plot(style='-o',\n",
    "                         figsize=(12, 3),\n",
    "                         title='rwc vs time (step size: {} hr, time window: {} hr)'.format(time_step,\n",
    "                                                                                           time_window))\n",
    "plt.savefig('figs/{}-rwc-vs-time.png'.format(dataset))"
   ]
  },
  {
   "cell_type": "code",
   "execution_count": 14,
   "metadata": {
    "collapsed": false
   },
   "outputs": [
    {
     "data": {
      "image/png": "[encoded data removed]",
      "text/plain": [
       "<matplotlib.figure.Figure at 0x7fe1b93850b8>"
      ]
     },
     "metadata": {},
     "output_type": "display_data"
    }
   ],
   "source": [
    "pd.Series(df.index).hist(bins=100, figsize=(12, 3))\n",
    "plt.savefig('figs/{}-volume.png'.format(dataset))"
   ]
  },
  {
   "cell_type": "code",
   "execution_count": null,
   "metadata": {
    "collapsed": true
   },
   "outputs": [],
   "source": [
    "pd.Series(df.index).hist"
   ]
  }
 ],
 "metadata": {
  "kernelspec": {
   "display_name": "Python 3",
   "language": "python",
   "name": "python3"
  },
  "language_info": {
   "codemirror_mode": {
    "name": "ipython",
    "version": 3
   },
   "file_extension": ".py",
   "mimetype": "text/x-python",
   "name": "python",
   "nbconvert_exporter": "python",
   "pygments_lexer": "ipython3",
   "version": "3.5.2"
  }
 },
 "nbformat": 4,
 "nbformat_minor": 0
}
