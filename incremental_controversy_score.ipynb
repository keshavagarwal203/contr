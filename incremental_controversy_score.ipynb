{
 "cells": [
  {
   "cell_type": "code",
   "execution_count": 2,
   "metadata": {
    "collapsed": true
   },
   "outputs": [],
   "source": [
    "%matplotlib inline\n",
    "import networkx as nx\n",
    "import metis\n",
    "import random\n",
    "import pandas as pd\n",
    "from tqdm import tqdm\n",
    "from itertools import chain\n",
    "from time import time\n",
    "from matplotlib import pyplot as plt\n",
    "from collections import Counter, defaultdict\n",
    "\n",
    "from rwc import controversy_score\n",
    "from leopard import update_partition"
   ]
  },
  {
   "cell_type": "code",
   "execution_count": 3,
   "metadata": {
    "collapsed": true
   },
   "outputs": [],
   "source": [
    "# running time and rwc score comparison\n",
    "from util import sample_edges_to_add\n",
    "\n",
    "def run_job(graph_pickle_path, edges_percent=0.1):\n",
    "    g = nx.read_gpickle(graph_pickle_path)\n",
    "\n",
    "    n_edges_to_add = n_edges_to_remove = int(g.number_of_edges() * edges_percent)\n",
    "    edges_to_add = sample_edges_to_add(g, n_edges_to_add)\n",
    "    edges_to_remove = random.sample(g.edges(), n_edges_to_remove)\n",
    "\n",
    "\n",
    "    stat = {\n",
    "        'name': os.path.basename(graph_pickle_path).split('.')[0]\n",
    "    }\n",
    "    cuts, node_cluster_ids = metis.part_graph(g, 2)\n",
    "    rwc, aux_info = controversy_score(g, node_cluster_ids, 0.01)\n",
    "    pr0, pr1 = aux_info['pr0'], aux_info['pr1']\n",
    "\n",
    "\n",
    "    # update partition\n",
    "    cuts, node_cluster_ids = metis.part_graph(g, 2)\n",
    "    node_cluster_ids_inc = update_partition(g, node_cluster_ids=node_cluster_ids,\n",
    "                                            edges_to_add=edges_to_add,\n",
    "                                            edges_to_remove=edges_to_remove,\n",
    "                                            verbose=False)\n",
    "    pr0_new = {n: pr0.get(n, 0) for n in g.nodes_iter()}\n",
    "    pr1_new = {n: pr1.get(n, 0) for n in g.nodes_iter()}\n",
    "\n",
    "    s = time()\n",
    "    rwc_inc, aux_info = controversy_score(g,\n",
    "                                          node_cluster_ids_inc,\n",
    "                                          0.01,\n",
    "                                          nstart0=pr0_new,\n",
    "                                          nstart1=pr1_new)\n",
    "\n",
    "    stat['running_time_inc'] = time() - s\n",
    "    stat['rwc_inc'] = rwc_inc\n",
    "\n",
    "    _, node_cluster_ids_raw = metis.part_graph(g, 2)\n",
    "\n",
    "    s = time()\n",
    "    rwc_raw, aux_info = controversy_score(g, \n",
    "                                          node_cluster_ids_raw,\n",
    "                                          0.01,\n",
    "                                          nstart0=None,\n",
    "                                          nstart1=None)\n",
    "    stat['running_time_raw'] = time() - s\n",
    "    stat['rwc_raw'] = rwc_raw\n",
    "    return stat"
   ]
  },
  {
   "cell_type": "code",
   "execution_count": 4,
   "metadata": {
    "collapsed": false,
    "slideshow": {
     "slide_type": "subslide"
    }
   },
   "outputs": [
    {
     "data": {
      "text/plain": [
       "{'name': 'beefban',\n",
       " 'running_time_inc': 8.084237813949585,\n",
       " 'running_time_raw': 9.208775520324707,\n",
       " 'rwc_inc': 0.81853080618309182,\n",
       " 'rwc_raw': 0.80747404452572935}"
      ]
     },
     "execution_count": 4,
     "metadata": {},
     "output_type": "execute_result"
    }
   ],
   "source": [
    "run_job('data/beefban.gpkl')"
   ]
  },
  {
   "cell_type": "code",
   "execution_count": 5,
   "metadata": {
    "collapsed": false
   },
   "outputs": [],
   "source": [
    "from glob import glob\n",
    "from joblib import Parallel, delayed\n",
    "rows = Parallel(n_jobs=8)(delayed(run_job)(path, edges_percent=0.01) for path in glob('data/*.gpkl'))\n",
    "# for path in glob('data/*.gpkl'):\n",
    "#     run_job('data/beefban.gpkl')"
   ]
  },
  {
   "cell_type": "code",
   "execution_count": 6,
   "metadata": {
    "collapsed": false
   },
   "outputs": [],
   "source": [
    "df = pd.DataFrame.from_records(rows)"
   ]
  },
  {
   "cell_type": "code",
   "execution_count": 7,
   "metadata": {
    "collapsed": false
   },
   "outputs": [
    {
     "name": "stdout",
     "output_type": "stream",
     "text": [
      "0.997025687085 6.56342729535e-08\n"
     ]
    }
   ],
   "source": [
    "from scipy.stats import pearsonr\n",
    "cc, p = pearsonr(df['rwc_inc'], df['rwc_raw'])\n",
    "print(cc, p)"
   ]
  },
  {
   "cell_type": "code",
   "execution_count": 8,
   "metadata": {
    "collapsed": false
   },
   "outputs": [
    {
     "name": "stdout",
     "output_type": "stream",
     "text": [
      "average running time reduction (percentage): 0.38\n"
     ]
    }
   ],
   "source": [
    "print('average running time reduction (percentage): {:.2f}'.format(((df['running_time_raw'] - df['running_time_inc']) / df['running_time_raw']).mean()))"
   ]
  },
  {
   "cell_type": "code",
   "execution_count": 9,
   "metadata": {
    "collapsed": false
   },
   "outputs": [
    {
     "data": {
      "text/plain": [
       "<matplotlib.text.Text at 0x7fe47c9f97f0>"
      ]
     },
     "execution_count": 9,
     "metadata": {},
     "output_type": "execute_result"
    },
    {
     "data": {
      "image/png": "[encoded data removed]",
      "text/plain": [
       "<matplotlib.figure.Figure at 0x7fe4766af208>"
      ]
     },
     "metadata": {},
     "output_type": "display_data"
    }
   ],
   "source": [
    "fig, ax = plt.subplots()\n",
    "ind = np.arange(df.shape[0])\n",
    "width = 0.15\n",
    "ax.bar(ind, df['running_time_inc'], width, color='b')\n",
    "ax.bar(ind+width, df['running_time_raw'], width, color='r')\n",
    "ax.set_xticklabels(df['name'])\n",
    "ax.set_ylabel('running time (seconds)')\n",
    "ax.legend(['incremental', 'from scratch'])\n",
    "fig.set_figwidth(10)\n",
    "ax.set_title('RWC score calculation running time comparison')"
   ]
  }
 ],
 "metadata": {
  "kernelspec": {
   "display_name": "Python 3",
   "language": "python",
   "name": "python3"
  },
  "language_info": {
   "codemirror_mode": {
    "name": "ipython",
    "version": 3
   },
   "file_extension": ".py",
   "mimetype": "text/x-python",
   "name": "python",
   "nbconvert_exporter": "python",
   "pygments_lexer": "ipython3",
   "version": "3.5.2"
  }
 },
 "nbformat": 4,
 "nbformat_minor": 0
}
